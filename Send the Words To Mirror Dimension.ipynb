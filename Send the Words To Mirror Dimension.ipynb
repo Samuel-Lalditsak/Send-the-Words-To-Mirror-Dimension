{
 "cells": [
  {
   "cell_type": "code",
   "execution_count": null,
   "metadata": {},
   "outputs": [],
   "source": [
    "word = input(\"Enter a word: \")\n",
    "\n",
    "reversed_word = word[::-1]\n",
    "\n",
    "print(reversed_word)"
   ]
  }
 ],
 "metadata": {
  "language_info": {
   "name": "python"
  },
  "orig_nbformat": 4
 },
 "nbformat": 4,
 "nbformat_minor": 2
}
